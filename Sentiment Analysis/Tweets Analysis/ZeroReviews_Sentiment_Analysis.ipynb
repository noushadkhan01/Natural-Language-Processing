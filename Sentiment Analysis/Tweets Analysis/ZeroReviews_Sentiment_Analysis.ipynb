{
  "nbformat": 4,
  "nbformat_minor": 0,
  "metadata": {
    "colab": {
      "name": "#ZeroReviews Sentiment Analysis.ipynb",
      "version": "0.3.2",
      "provenance": [],
      "include_colab_link": true
    },
    "kernelspec": {
      "name": "python3",
      "display_name": "Python 3"
    },
    "accelerator": "GPU"
  },
  "cells": [
    {
      "cell_type": "markdown",
      "metadata": {
        "id": "view-in-github",
        "colab_type": "text"
      },
      "source": [
        "<a href=\"https://colab.research.google.com/github/noushadkhan01/Natural-Language-Processing/blob/master/Sentiment%20Analysis/Tweets%20Analysis/ZeroReviews_Sentiment_Analysis.ipynb\" target=\"_parent\"><img src=\"https://colab.research.google.com/assets/colab-badge.svg\" alt=\"Open In Colab\"/></a>"
      ]
    },
    {
      "metadata": {
        "id": "z4RI7EiYCovn",
        "colab_type": "code",
        "outputId": "b06905ef-5478-4f11-a158-c9e4863725ae",
        "colab": {
          "base_uri": "https://localhost:8080/",
          "height": 119
        }
      },
      "cell_type": "code",
      "source": [
        "!git clone https://github.com/noushadkhan01/Natural-Language-Processing.git"
      ],
      "execution_count": 1,
      "outputs": [
        {
          "output_type": "stream",
          "text": [
            "Cloning into 'Natural-Language-Processing'...\n",
            "remote: Enumerating objects: 32, done.\u001b[K\n",
            "remote: Counting objects:   3% (1/32)   \u001b[K\rremote: Counting objects:   6% (2/32)   \u001b[K\rremote: Counting objects:   9% (3/32)   \u001b[K\rremote: Counting objects:  12% (4/32)   \u001b[K\rremote: Counting objects:  15% (5/32)   \u001b[K\rremote: Counting objects:  18% (6/32)   \u001b[K\rremote: Counting objects:  21% (7/32)   \u001b[K\rremote: Counting objects:  25% (8/32)   \u001b[K\rremote: Counting objects:  28% (9/32)   \u001b[K\rremote: Counting objects:  31% (10/32)   \u001b[K\rremote: Counting objects:  34% (11/32)   \u001b[K\rremote: Counting objects:  37% (12/32)   \u001b[K\rremote: Counting objects:  40% (13/32)   \u001b[K\rremote: Counting objects:  43% (14/32)   \u001b[K\rremote: Counting objects:  46% (15/32)   \u001b[K\rremote: Counting objects:  50% (16/32)   \u001b[K\rremote: Counting objects:  53% (17/32)   \u001b[K\rremote: Counting objects:  56% (18/32)   \u001b[K\rremote: Counting objects:  59% (19/32)   \u001b[K\rremote: Counting objects:  62% (20/32)   \u001b[K\rremote: Counting objects:  65% (21/32)   \u001b[K\rremote: Counting objects:  68% (22/32)   \u001b[K\rremote: Counting objects:  71% (23/32)   \u001b[K\rremote: Counting objects:  75% (24/32)   \u001b[K\rremote: Counting objects:  78% (25/32)   \u001b[K\rremote: Counting objects:  81% (26/32)   \u001b[K\rremote: Counting objects:  84% (27/32)   \u001b[K\rremote: Counting objects:  87% (28/32)   \u001b[K\rremote: Counting objects:  90% (29/32)   \u001b[K\rremote: Counting objects:  93% (30/32)   \u001b[K\rremote: Counting objects:  96% (31/32)   \u001b[K\rremote: Counting objects: 100% (32/32)   \u001b[K\rremote: Counting objects: 100% (32/32), done.\u001b[K\n",
            "remote: Compressing objects:   4% (1/23)   \u001b[K\rremote: Compressing objects:   8% (2/23)   \u001b[K\rremote: Compressing objects:  13% (3/23)   \u001b[K\rremote: Compressing objects:  17% (4/23)   \u001b[K\rremote: Compressing objects:  21% (5/23)   \u001b[K\rremote: Compressing objects:  26% (6/23)   \u001b[K\rremote: Compressing objects:  30% (7/23)   \u001b[K\rremote: Compressing objects:  34% (8/23)   \u001b[K\rremote: Compressing objects:  39% (9/23)   \u001b[K\rremote: Compressing objects:  43% (10/23)   \u001b[K\rremote: Compressing objects:  47% (11/23)   \u001b[K\rremote: Compressing objects:  52% (12/23)   \u001b[K\rremote: Compressing objects:  56% (13/23)   \u001b[K\rremote: Compressing objects:  60% (14/23)   \u001b[K\rremote: Compressing objects:  65% (15/23)   \u001b[K\rremote: Compressing objects:  69% (16/23)   \u001b[K\rremote: Compressing objects:  73% (17/23)   \u001b[K\rremote: Compressing objects:  78% (18/23)   \u001b[K\rremote: Compressing objects:  82% (19/23)   \u001b[K\rremote: Compressing objects:  86% (20/23)   \u001b[K\rremote: Compressing objects:  91% (21/23)   \u001b[K\rremote: Compressing objects:  95% (22/23)   \u001b[K\rremote: Compressing objects: 100% (23/23)   \u001b[K\rremote: Compressing objects: 100% (23/23), done.\u001b[K\n",
            "remote: Total 32 (delta 6), reused 0 (delta 0), pack-reused 0\u001b[K\n",
            "Unpacking objects: 100% (32/32), done.\n"
          ],
          "name": "stdout"
        }
      ]
    },
    {
      "metadata": {
        "id": "_oswhgbnVxhz",
        "colab_type": "code",
        "outputId": "17c9ca8d-1c22-47e7-88ea-d671d5d86a07",
        "colab": {
          "base_uri": "https://localhost:8080/",
          "height": 34
        }
      },
      "cell_type": "code",
      "source": [
        "!ls"
      ],
      "execution_count": 2,
      "outputs": [
        {
          "output_type": "stream",
          "text": [
            "Natural-Language-Processing  sample_data\n"
          ],
          "name": "stdout"
        }
      ]
    },
    {
      "metadata": {
        "id": "LoPZcx97PPX-",
        "colab_type": "code",
        "colab": {
          "base_uri": "https://localhost:8080/",
          "height": 34
        },
        "outputId": "cff40ef6-2f15-474d-b296-01aefec10a2b"
      },
      "cell_type": "code",
      "source": [
        "%cd ./'Natural-Language-Processing/Sentiment Analysis/Tweets Analysis/'"
      ],
      "execution_count": 3,
      "outputs": [
        {
          "output_type": "stream",
          "text": [
            "/content/Natural-Language-Processing/Sentiment Analysis/Tweets Analysis\n"
          ],
          "name": "stdout"
        }
      ]
    },
    {
      "metadata": {
        "id": "6nK6U8E4PwDh",
        "colab_type": "code",
        "colab": {}
      },
      "cell_type": "code",
      "source": [
        "from get_keyword_tweets import get_keyword_tweets"
      ],
      "execution_count": 0,
      "outputs": []
    },
    {
      "metadata": {
        "id": "pXpe1gvbP4bt",
        "colab_type": "text"
      },
      "cell_type": "markdown",
      "source": [
        "get_keyword_tweets()"
      ]
    },
    {
      "metadata": {
        "id": "ZZCj3RVpS2LR",
        "colab_type": "code",
        "colab": {
          "base_uri": "https://localhost:8080/",
          "height": 51
        },
        "outputId": "bb330c4c-69f5-4c8f-de36-c7dcec5a50d5"
      },
      "cell_type": "code",
      "source": [
        "!ls"
      ],
      "execution_count": 28,
      "outputs": [
        {
          "output_type": "stream",
          "text": [
            "data\t\t       get_user_tweets.py  twitter_credentials.json\n",
            "get_keyword_tweets.py  __pycache__\t   ZeroReview_tweets.csv\n"
          ],
          "name": "stdout"
        }
      ]
    },
    {
      "metadata": {
        "id": "pOXTCZ0pe55t",
        "colab_type": "code",
        "colab": {}
      },
      "cell_type": "code",
      "source": [
        "import pandas as pd"
      ],
      "execution_count": 0,
      "outputs": []
    },
    {
      "metadata": {
        "id": "d7QaDJpLe9Qd",
        "colab_type": "code",
        "colab": {
          "base_uri": "https://localhost:8080/",
          "height": 289
        },
        "outputId": "470dae07-3d74-41cf-bc44-c935e507f244"
      },
      "cell_type": "code",
      "source": [
        "df = pd.read_csv('ZeroReview_tweets.csv', sep = '\\t')\n",
        "df.head()"
      ],
      "execution_count": 33,
      "outputs": [
        {
          "output_type": "execute_result",
          "data": {
            "text/html": [
              "<div>\n",
              "<style scoped>\n",
              "    .dataframe tbody tr th:only-of-type {\n",
              "        vertical-align: middle;\n",
              "    }\n",
              "\n",
              "    .dataframe tbody tr th {\n",
              "        vertical-align: top;\n",
              "    }\n",
              "\n",
              "    .dataframe thead th {\n",
              "        text-align: right;\n",
              "    }\n",
              "</style>\n",
              "<table border=\"1\" class=\"dataframe\">\n",
              "  <thead>\n",
              "    <tr style=\"text-align: right;\">\n",
              "      <th></th>\n",
              "      <th>tweet_id</th>\n",
              "      <th>created_at</th>\n",
              "      <th>text</th>\n",
              "      <th>language</th>\n",
              "      <th>user_id</th>\n",
              "      <th>screen_name</th>\n",
              "      <th>user_followers</th>\n",
              "      <th>user_friends</th>\n",
              "      <th>is_verified</th>\n",
              "    </tr>\n",
              "  </thead>\n",
              "  <tbody>\n",
              "    <tr>\n",
              "      <th>0</th>\n",
              "      <td>1078659590718402560</td>\n",
              "      <td>2018-12-28 14:31:01</td>\n",
              "      <td>RT @iamvikas02: HAHAHA\\nFAKE CRITICS TRY TO MA...</td>\n",
              "      <td>en</td>\n",
              "      <td>3225264492</td>\n",
              "      <td>iamvikas02</td>\n",
              "      <td>26</td>\n",
              "      <td>2</td>\n",
              "      <td>False</td>\n",
              "    </tr>\n",
              "    <tr>\n",
              "      <th>1</th>\n",
              "      <td>1078659556987846656</td>\n",
              "      <td>2018-12-28 14:30:53</td>\n",
              "      <td>HAHAHA\\nFAKE CRITICS TRY TO MAKE THIS MOVIE BL...</td>\n",
              "      <td>en</td>\n",
              "      <td>3225264492</td>\n",
              "      <td>iamvikas02</td>\n",
              "      <td>26</td>\n",
              "      <td>2</td>\n",
              "      <td>False</td>\n",
              "    </tr>\n",
              "    <tr>\n",
              "      <th>2</th>\n",
              "      <td>1078658638359580672</td>\n",
              "      <td>2018-12-28 14:27:14</td>\n",
              "      <td>RT @imRajababu_: #ZeroReview\\n#SelfieWithBook ...</td>\n",
              "      <td>hi</td>\n",
              "      <td>957143862341926913</td>\n",
              "      <td>NiyashD</td>\n",
              "      <td>95</td>\n",
              "      <td>269</td>\n",
              "      <td>False</td>\n",
              "    </tr>\n",
              "    <tr>\n",
              "      <th>3</th>\n",
              "      <td>1078658581874892801</td>\n",
              "      <td>2018-12-28 14:27:01</td>\n",
              "      <td>RT @Futuretrends4: #PaidCriticTaranAdarsh #Zer...</td>\n",
              "      <td>en</td>\n",
              "      <td>779609860086259712</td>\n",
              "      <td>vivekchowdhar16</td>\n",
              "      <td>28</td>\n",
              "      <td>73</td>\n",
              "      <td>False</td>\n",
              "    </tr>\n",
              "    <tr>\n",
              "      <th>4</th>\n",
              "      <td>1078656589739917314</td>\n",
              "      <td>2018-12-28 14:19:06</td>\n",
              "      <td>RT @galattadotcom: \"#Zero Was Made To Show The...</td>\n",
              "      <td>en</td>\n",
              "      <td>948186281212645377</td>\n",
              "      <td>NaNtHu_twitz</td>\n",
              "      <td>364</td>\n",
              "      <td>76</td>\n",
              "      <td>False</td>\n",
              "    </tr>\n",
              "  </tbody>\n",
              "</table>\n",
              "</div>"
            ],
            "text/plain": [
              "              tweet_id           created_at  \\\n",
              "0  1078659590718402560  2018-12-28 14:31:01   \n",
              "1  1078659556987846656  2018-12-28 14:30:53   \n",
              "2  1078658638359580672  2018-12-28 14:27:14   \n",
              "3  1078658581874892801  2018-12-28 14:27:01   \n",
              "4  1078656589739917314  2018-12-28 14:19:06   \n",
              "\n",
              "                                                text language  \\\n",
              "0  RT @iamvikas02: HAHAHA\\nFAKE CRITICS TRY TO MA...       en   \n",
              "1  HAHAHA\\nFAKE CRITICS TRY TO MAKE THIS MOVIE BL...       en   \n",
              "2  RT @imRajababu_: #ZeroReview\\n#SelfieWithBook ...       hi   \n",
              "3  RT @Futuretrends4: #PaidCriticTaranAdarsh #Zer...       en   \n",
              "4  RT @galattadotcom: \"#Zero Was Made To Show The...       en   \n",
              "\n",
              "              user_id      screen_name  user_followers  user_friends  \\\n",
              "0          3225264492       iamvikas02              26             2   \n",
              "1          3225264492       iamvikas02              26             2   \n",
              "2  957143862341926913          NiyashD              95           269   \n",
              "3  779609860086259712  vivekchowdhar16              28            73   \n",
              "4  948186281212645377     NaNtHu_twitz             364            76   \n",
              "\n",
              "   is_verified  \n",
              "0        False  \n",
              "1        False  \n",
              "2        False  \n",
              "3        False  \n",
              "4        False  "
            ]
          },
          "metadata": {
            "tags": []
          },
          "execution_count": 33
        }
      ]
    },
    {
      "metadata": {
        "id": "fa5rtfzsfDJw",
        "colab_type": "code",
        "colab": {
          "base_uri": "https://localhost:8080/",
          "height": 34
        },
        "outputId": "c2c98f4b-a32c-42a7-99cc-6eb328be5fe9"
      },
      "cell_type": "code",
      "source": [
        "df.shape"
      ],
      "execution_count": 34,
      "outputs": [
        {
          "output_type": "execute_result",
          "data": {
            "text/plain": [
              "(17883, 9)"
            ]
          },
          "metadata": {
            "tags": []
          },
          "execution_count": 34
        }
      ]
    },
    {
      "metadata": {
        "id": "7ZiH-N0LfEAO",
        "colab_type": "code",
        "colab": {}
      },
      "cell_type": "code",
      "source": [
        ""
      ],
      "execution_count": 0,
      "outputs": []
    }
  ]
}