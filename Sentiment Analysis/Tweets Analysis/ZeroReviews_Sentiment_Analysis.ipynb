{
  "nbformat": 4,
  "nbformat_minor": 0,
  "metadata": {
    "colab": {
      "name": "#ZeroReviews Sentiment Analysis.ipynb",
      "version": "0.3.2",
      "provenance": [],
      "include_colab_link": true
    },
    "kernelspec": {
      "name": "python3",
      "display_name": "Python 3"
    },
    "accelerator": "GPU"
  },
  "cells": [
    {
      "cell_type": "markdown",
      "metadata": {
        "id": "view-in-github",
        "colab_type": "text"
      },
      "source": [
        "<a href=\"https://colab.research.google.com/github/noushadkhan01/Natural-Language-Processing/blob/master/Sentiment%20Analysis/Tweets%20Analysis/ZeroReviews_Sentiment_Analysis.ipynb\" target=\"_parent\"><img src=\"https://colab.research.google.com/assets/colab-badge.svg\" alt=\"Open In Colab\"/></a>"
      ]
    },
    {
      "metadata": {
        "id": "uzarkpytrJuU",
        "colab_type": "code",
        "colab": {}
      },
      "cell_type": "code",
      "source": [
        "%matplotlib inline"
      ],
      "execution_count": 0,
      "outputs": []
    },
    {
      "metadata": {
        "id": "z4RI7EiYCovn",
        "colab_type": "code",
        "outputId": "d1dd7d81-514b-4234-910d-ef93df9deb16",
        "colab": {
          "base_uri": "https://localhost:8080/",
          "height": 119
        }
      },
      "cell_type": "code",
      "source": [
        "!git clone https://github.com/noushadkhan01/Natural-Language-Processing.git"
      ],
      "execution_count": 2,
      "outputs": [
        {
          "output_type": "stream",
          "text": [
            "Cloning into 'Natural-Language-Processing'...\n",
            "remote: Enumerating objects: 88, done.\u001b[K\n",
            "remote: Counting objects: 100% (88/88), done.\u001b[K\n",
            "remote: Compressing objects: 100% (68/68), done.\u001b[K\n",
            "remote: Total 88 (delta 24), reused 0 (delta 0), pack-reused 0\u001b[K\n",
            "Unpacking objects: 100% (88/88), done.\n"
          ],
          "name": "stdout"
        }
      ]
    },
    {
      "metadata": {
        "id": "_oswhgbnVxhz",
        "colab_type": "code",
        "outputId": "8a8c25af-d552-49d8-9f89-cc7d93ab8ffa",
        "colab": {
          "base_uri": "https://localhost:8080/",
          "height": 34
        }
      },
      "cell_type": "code",
      "source": [
        "!ls"
      ],
      "execution_count": 3,
      "outputs": [
        {
          "output_type": "stream",
          "text": [
            "Natural-Language-Processing  sample_data\n"
          ],
          "name": "stdout"
        }
      ]
    },
    {
      "metadata": {
        "id": "LoPZcx97PPX-",
        "colab_type": "code",
        "outputId": "1e8fd5bd-037e-4b3a-be7b-b2e918baded1",
        "colab": {
          "base_uri": "https://localhost:8080/",
          "height": 34
        }
      },
      "cell_type": "code",
      "source": [
        "%cd ./'Natural-Language-Processing/Sentiment Analysis/Tweets Analysis/'"
      ],
      "execution_count": 4,
      "outputs": [
        {
          "output_type": "stream",
          "text": [
            "/content/Natural-Language-Processing/Sentiment Analysis/Tweets Analysis\n"
          ],
          "name": "stdout"
        }
      ]
    },
    {
      "metadata": {
        "id": "6nK6U8E4PwDh",
        "colab_type": "code",
        "colab": {}
      },
      "cell_type": "code",
      "source": [
        "from get_keyword_tweets import get_keyword_tweets"
      ],
      "execution_count": 0,
      "outputs": []
    },
    {
      "metadata": {
        "id": "pXpe1gvbP4bt",
        "colab_type": "text"
      },
      "cell_type": "markdown",
      "source": [
        "get_keyword_tweets()"
      ]
    },
    {
      "metadata": {
        "id": "pOXTCZ0pe55t",
        "colab_type": "code",
        "colab": {}
      },
      "cell_type": "code",
      "source": [
        "import pandas as pd"
      ],
      "execution_count": 0,
      "outputs": []
    },
    {
      "metadata": {
        "id": "d7QaDJpLe9Qd",
        "colab_type": "code",
        "outputId": "76f6a615-b0fc-4fd1-f555-1d5dddcd8004",
        "colab": {
          "base_uri": "https://localhost:8080/",
          "height": 289
        }
      },
      "cell_type": "code",
      "source": [
        "df = pd.read_csv('data/ZeroReview_tweets.csv', sep = '\\t')\n",
        "df.head()"
      ],
      "execution_count": 7,
      "outputs": [
        {
          "output_type": "execute_result",
          "data": {
            "text/html": [
              "<div>\n",
              "<style scoped>\n",
              "    .dataframe tbody tr th:only-of-type {\n",
              "        vertical-align: middle;\n",
              "    }\n",
              "\n",
              "    .dataframe tbody tr th {\n",
              "        vertical-align: top;\n",
              "    }\n",
              "\n",
              "    .dataframe thead th {\n",
              "        text-align: right;\n",
              "    }\n",
              "</style>\n",
              "<table border=\"1\" class=\"dataframe\">\n",
              "  <thead>\n",
              "    <tr style=\"text-align: right;\">\n",
              "      <th></th>\n",
              "      <th>tweet_id</th>\n",
              "      <th>created_at</th>\n",
              "      <th>text</th>\n",
              "      <th>language</th>\n",
              "      <th>user_id</th>\n",
              "      <th>screen_name</th>\n",
              "      <th>user_followers</th>\n",
              "      <th>user_friends</th>\n",
              "      <th>is_verified</th>\n",
              "    </tr>\n",
              "  </thead>\n",
              "  <tbody>\n",
              "    <tr>\n",
              "      <th>0</th>\n",
              "      <td>1078659590718402560</td>\n",
              "      <td>2018-12-28 14:31:01</td>\n",
              "      <td>RT @iamvikas02: HAHAHA\\nFAKE CRITICS TRY TO MA...</td>\n",
              "      <td>en</td>\n",
              "      <td>3225264492</td>\n",
              "      <td>iamvikas02</td>\n",
              "      <td>26</td>\n",
              "      <td>2</td>\n",
              "      <td>False</td>\n",
              "    </tr>\n",
              "    <tr>\n",
              "      <th>1</th>\n",
              "      <td>1078659556987846656</td>\n",
              "      <td>2018-12-28 14:30:53</td>\n",
              "      <td>HAHAHA\\nFAKE CRITICS TRY TO MAKE THIS MOVIE BL...</td>\n",
              "      <td>en</td>\n",
              "      <td>3225264492</td>\n",
              "      <td>iamvikas02</td>\n",
              "      <td>26</td>\n",
              "      <td>2</td>\n",
              "      <td>False</td>\n",
              "    </tr>\n",
              "    <tr>\n",
              "      <th>2</th>\n",
              "      <td>1078658638359580672</td>\n",
              "      <td>2018-12-28 14:27:14</td>\n",
              "      <td>RT @imRajababu_: #ZeroReview\\n#SelfieWithBook ...</td>\n",
              "      <td>hi</td>\n",
              "      <td>957143862341926913</td>\n",
              "      <td>NiyashD</td>\n",
              "      <td>95</td>\n",
              "      <td>269</td>\n",
              "      <td>False</td>\n",
              "    </tr>\n",
              "    <tr>\n",
              "      <th>3</th>\n",
              "      <td>1078658581874892801</td>\n",
              "      <td>2018-12-28 14:27:01</td>\n",
              "      <td>RT @Futuretrends4: #PaidCriticTaranAdarsh #Zer...</td>\n",
              "      <td>en</td>\n",
              "      <td>779609860086259712</td>\n",
              "      <td>vivekchowdhar16</td>\n",
              "      <td>28</td>\n",
              "      <td>73</td>\n",
              "      <td>False</td>\n",
              "    </tr>\n",
              "    <tr>\n",
              "      <th>4</th>\n",
              "      <td>1078656589739917314</td>\n",
              "      <td>2018-12-28 14:19:06</td>\n",
              "      <td>RT @galattadotcom: \"#Zero Was Made To Show The...</td>\n",
              "      <td>en</td>\n",
              "      <td>948186281212645377</td>\n",
              "      <td>NaNtHu_twitz</td>\n",
              "      <td>364</td>\n",
              "      <td>76</td>\n",
              "      <td>False</td>\n",
              "    </tr>\n",
              "  </tbody>\n",
              "</table>\n",
              "</div>"
            ],
            "text/plain": [
              "              tweet_id           created_at  \\\n",
              "0  1078659590718402560  2018-12-28 14:31:01   \n",
              "1  1078659556987846656  2018-12-28 14:30:53   \n",
              "2  1078658638359580672  2018-12-28 14:27:14   \n",
              "3  1078658581874892801  2018-12-28 14:27:01   \n",
              "4  1078656589739917314  2018-12-28 14:19:06   \n",
              "\n",
              "                                                text language  \\\n",
              "0  RT @iamvikas02: HAHAHA\\nFAKE CRITICS TRY TO MA...       en   \n",
              "1  HAHAHA\\nFAKE CRITICS TRY TO MAKE THIS MOVIE BL...       en   \n",
              "2  RT @imRajababu_: #ZeroReview\\n#SelfieWithBook ...       hi   \n",
              "3  RT @Futuretrends4: #PaidCriticTaranAdarsh #Zer...       en   \n",
              "4  RT @galattadotcom: \"#Zero Was Made To Show The...       en   \n",
              "\n",
              "              user_id      screen_name  user_followers  user_friends  \\\n",
              "0          3225264492       iamvikas02              26             2   \n",
              "1          3225264492       iamvikas02              26             2   \n",
              "2  957143862341926913          NiyashD              95           269   \n",
              "3  779609860086259712  vivekchowdhar16              28            73   \n",
              "4  948186281212645377     NaNtHu_twitz             364            76   \n",
              "\n",
              "   is_verified  \n",
              "0        False  \n",
              "1        False  \n",
              "2        False  \n",
              "3        False  \n",
              "4        False  "
            ]
          },
          "metadata": {
            "tags": []
          },
          "execution_count": 7
        }
      ]
    },
    {
      "metadata": {
        "id": "fa5rtfzsfDJw",
        "colab_type": "code",
        "outputId": "4277d09d-d63c-45ea-87d8-7e0b3504d706",
        "colab": {
          "base_uri": "https://localhost:8080/",
          "height": 34
        }
      },
      "cell_type": "code",
      "source": [
        "df.shape"
      ],
      "execution_count": 8,
      "outputs": [
        {
          "output_type": "execute_result",
          "data": {
            "text/plain": [
              "(17883, 9)"
            ]
          },
          "metadata": {
            "tags": []
          },
          "execution_count": 8
        }
      ]
    },
    {
      "metadata": {
        "id": "_XiGaxsPpZTp",
        "colab_type": "code",
        "colab": {
          "base_uri": "https://localhost:8080/",
          "height": 68
        },
        "outputId": "f970e886-4c8a-46c1-d1e0-10bcf0c87fa7"
      },
      "cell_type": "code",
      "source": [
        "!ls"
      ],
      "execution_count": 9,
      "outputs": [
        {
          "output_type": "stream",
          "text": [
            "data\t\t\t   get_user_tweets.py\n",
            "get_keyword_tweets.py\t   __pycache__\n",
            "get_sentiment_analysis.py  ZeroReviews_Sentiment_Analysis.ipynb\n"
          ],
          "name": "stdout"
        }
      ]
    },
    {
      "metadata": {
        "id": "TFhKV322pPtZ",
        "colab_type": "code",
        "colab": {
          "base_uri": "https://localhost:8080/",
          "height": 119
        },
        "outputId": "434c5ed0-4d31-4309-c265-63636d51888b"
      },
      "cell_type": "code",
      "source": [
        "from get_sentiment_analysis import *"
      ],
      "execution_count": 10,
      "outputs": [
        {
          "output_type": "stream",
          "text": [
            "[nltk_data] Downloading package punkt to /root/nltk_data...\n",
            "[nltk_data]   Unzipping tokenizers/punkt.zip.\n",
            "[nltk_data] Downloading package stopwords to /root/nltk_data...\n",
            "[nltk_data]   Unzipping corpora/stopwords.zip.\n",
            "[nltk_data] Downloading package brown to /root/nltk_data...\n",
            "[nltk_data]   Unzipping corpora/brown.zip.\n"
          ],
          "name": "stdout"
        }
      ]
    },
    {
      "metadata": {
        "id": "0U98RNlQsTkD",
        "colab_type": "code",
        "colab": {
          "base_uri": "https://localhost:8080/",
          "height": 451
        },
        "outputId": "2e66d34b-e2d9-47df-be1f-8ae272a46c36"
      },
      "cell_type": "code",
      "source": [
        "df = get_sentiment_analysis(df)\n",
        "df.head(2)"
      ],
      "execution_count": 11,
      "outputs": [
        {
          "output_type": "stream",
          "text": [
            "THE AVERAGE POLARITY 0.1339882335234818\n",
            "THE MOST -VE TWEET : created                                                  NaN\n",
            "text       Worst movie of the year award goes to; \\n\\n#Si...\n",
            "Name: 52, dtype: object\n",
            "THE MOST +VE TWEET : created                                                  NaN\n",
            "text       #ZeroReview  at its best 😁 https://t.co/0do9N1...\n",
            "Name: 43, dtype: object\n"
          ],
          "name": "stdout"
        },
        {
          "output_type": "stream",
          "text": [
            "/usr/local/lib/python3.6/dist-packages/pandas/core/series.py:705: FutureWarning: \n",
            "Passing list-likes to .loc or [] with any missing label will raise\n",
            "KeyError in the future, you can use .reindex() as an alternative.\n",
            "\n",
            "See the documentation here:\n",
            "http://pandas.pydata.org/pandas-docs/stable/indexing.html#deprecate-loc-reindex-listlike\n",
            "  return self.loc[key]\n"
          ],
          "name": "stderr"
        },
        {
          "output_type": "execute_result",
          "data": {
            "text/html": [
              "<div>\n",
              "<style scoped>\n",
              "    .dataframe tbody tr th:only-of-type {\n",
              "        vertical-align: middle;\n",
              "    }\n",
              "\n",
              "    .dataframe tbody tr th {\n",
              "        vertical-align: top;\n",
              "    }\n",
              "\n",
              "    .dataframe thead th {\n",
              "        text-align: right;\n",
              "    }\n",
              "</style>\n",
              "<table border=\"1\" class=\"dataframe\">\n",
              "  <thead>\n",
              "    <tr style=\"text-align: right;\">\n",
              "      <th></th>\n",
              "      <th>tweet_id</th>\n",
              "      <th>created_at</th>\n",
              "      <th>text</th>\n",
              "      <th>language</th>\n",
              "      <th>user_id</th>\n",
              "      <th>screen_name</th>\n",
              "      <th>user_followers</th>\n",
              "      <th>user_friends</th>\n",
              "      <th>is_verified</th>\n",
              "      <th>cleaned_text</th>\n",
              "      <th>polarity</th>\n",
              "    </tr>\n",
              "  </thead>\n",
              "  <tbody>\n",
              "    <tr>\n",
              "      <th>0</th>\n",
              "      <td>1078659590718402560</td>\n",
              "      <td>2018-12-28 14:31:01</td>\n",
              "      <td>RT @iamvikas02: HAHAHA\\nFAKE CRITICS TRY TO MA...</td>\n",
              "      <td>en</td>\n",
              "      <td>3225264492</td>\n",
              "      <td>iamvikas02</td>\n",
              "      <td>26</td>\n",
              "      <td>2</td>\n",
              "      <td>False</td>\n",
              "      <td>rt hahaha fake critics try make movie blockbus...</td>\n",
              "      <td>-0.15</td>\n",
              "    </tr>\n",
              "    <tr>\n",
              "      <th>1</th>\n",
              "      <td>1078659556987846656</td>\n",
              "      <td>2018-12-28 14:30:53</td>\n",
              "      <td>HAHAHA\\nFAKE CRITICS TRY TO MAKE THIS MOVIE BL...</td>\n",
              "      <td>en</td>\n",
              "      <td>3225264492</td>\n",
              "      <td>iamvikas02</td>\n",
              "      <td>26</td>\n",
              "      <td>2</td>\n",
              "      <td>False</td>\n",
              "      <td>hahaha fake critics try make movie blockbuster...</td>\n",
              "      <td>-0.15</td>\n",
              "    </tr>\n",
              "  </tbody>\n",
              "</table>\n",
              "</div>"
            ],
            "text/plain": [
              "              tweet_id           created_at  \\\n",
              "0  1078659590718402560  2018-12-28 14:31:01   \n",
              "1  1078659556987846656  2018-12-28 14:30:53   \n",
              "\n",
              "                                                text language     user_id  \\\n",
              "0  RT @iamvikas02: HAHAHA\\nFAKE CRITICS TRY TO MA...       en  3225264492   \n",
              "1  HAHAHA\\nFAKE CRITICS TRY TO MAKE THIS MOVIE BL...       en  3225264492   \n",
              "\n",
              "  screen_name  user_followers  user_friends  is_verified  \\\n",
              "0  iamvikas02              26             2        False   \n",
              "1  iamvikas02              26             2        False   \n",
              "\n",
              "                                        cleaned_text  polarity  \n",
              "0  rt hahaha fake critics try make movie blockbus...     -0.15  \n",
              "1  hahaha fake critics try make movie blockbuster...     -0.15  "
            ]
          },
          "metadata": {
            "tags": []
          },
          "execution_count": 11
        }
      ]
    }
  ]
}